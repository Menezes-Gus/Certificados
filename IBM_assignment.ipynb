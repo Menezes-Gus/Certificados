{
 "cells": [
  {
   "cell_type": "markdown",
   "metadata": {},
   "source": [
    "<center>\n",
    "    <img src=\"https://cf-courses-data.s3.us.cloud-object-storage.appdomain.cloud/IBMDeveloperSkillsNetwork-DS0105EN-SkillsNetwork/labs/Module2/images/SN_web_lightmode.png\" width=\"300\" alt=\"cognitiveclass.ai logo\">\n",
    "</center>\n"
   ]
  },
  {
   "cell_type": "markdown",
   "metadata": {},
   "source": [
    "#### Add your code below following the instructions given in the course\n"
   ]
  },
  {
   "cell_type": "markdown",
   "metadata": {},
   "source": [
    "<h1>My Jupyter Notebook on IBM Watson Studio</h1>"
   ]
  },
  {
   "cell_type": "markdown",
   "metadata": {},
   "source": [
    "<strong>My name is Gustavo Menezes</strong> <br> \n",
    "I'm currently a data engineer and my desired occupation is data scientist"
   ]
  },
  {
   "cell_type": "markdown",
   "metadata": {},
   "source": [
    "<em>I'm interested in data science because it unites computer science, statistics and a little bit of economics</em>"
   ]
  },
  {
   "cell_type": "markdown",
   "metadata": {},
   "source": [
    "<h3>My code in the next line sums 1 plus 1</h3>"
   ]
  },
  {
   "cell_type": "code",
   "execution_count": 1,
   "metadata": {},
   "outputs": [
    {
     "data": {
      "text/plain": [
       "2"
      ]
     },
     "execution_count": 1,
     "metadata": {},
     "output_type": "execute_result"
    }
   ],
   "source": [
    "1+1"
   ]
  },
  {
   "cell_type": "markdown",
   "metadata": {},
   "source": [
    "Bullet List: <br>\n",
    "<ul>\n",
    "  <li>Red</li>\n",
    "  <li>Blue</li>\n",
    "  <li>Yellow</li>\n",
    "</ul>\n",
    "<br><br>\n",
    "Blocked Quote:\n",
    "<blockquote cite=\"https://en.wikipedia.org/wiki/Xenogears\">\n",
    "Xenogears is a 1998 role-playing video game developed and published by Square for the PlayStation video game console. It is the debut entry in the larger Xeno franchise. The gameplay of Xenogears revolves around navigating 3D environments both on-foot and using humanoid mecha dubbed \"Gears\".\n",
    "</blockquote>\n",
    "<br><br>\n",
    "Image:\n",
    "<img src=\"https://upload.wikimedia.org/wikipedia/en/6/6f/Xenogears_box.jpg\" alt=\"Xenogears\">"
   ]
  },
  {
   "cell_type": "code",
   "execution_count": null,
   "metadata": {},
   "outputs": [],
   "source": []
  }
 ],
 "metadata": {
  "kernelspec": {
   "display_name": "Python",
   "language": "python",
   "name": "conda-env-python-py"
  },
  "language_info": {
   "codemirror_mode": {
    "name": "ipython",
    "version": 3
   },
   "file_extension": ".py",
   "mimetype": "text/x-python",
   "name": "python",
   "nbconvert_exporter": "python",
   "pygments_lexer": "ipython3",
   "version": "3.7.12"
  }
 },
 "nbformat": 4,
 "nbformat_minor": 4
}
